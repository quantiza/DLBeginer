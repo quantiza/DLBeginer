{
 "cells": [
  {
   "cell_type": "code",
   "execution_count": 1,
   "metadata": {
    "collapsed": true
   },
   "outputs": [],
   "source": [
    "import torch\n",
    "from torch import nn\n",
    "import d2lzh.function as d2l"
   ]
  },
  {
   "cell_type": "code",
   "execution_count": 7,
   "outputs": [],
   "source": [
    "def corr2d_multi_in(X, K):\n",
    "    res = d2l.corr2d(X[0, :, :], K[0, :, :])\n",
    "    for i in range(0, X.shape[0]):\n",
    "        res += d2l.corr2d(X[i, :, :], K[i, :, :])\n",
    "    return res"
   ],
   "metadata": {
    "collapsed": false,
    "pycharm": {
     "name": "#%%\n"
    }
   }
  },
  {
   "cell_type": "code",
   "execution_count": 8,
   "outputs": [
    {
     "data": {
      "text/plain": "tensor([[ 75.,  97.],\n        [141., 163.]])"
     },
     "execution_count": 8,
     "metadata": {},
     "output_type": "execute_result"
    }
   ],
   "source": [
    "X = torch.tensor([[[0, 1, 2], [3, 4, 5], [6, 7, 8]],\n",
    "              [[1, 2, 3], [4, 5, 6], [7, 8, 9]]])\n",
    "K = torch.tensor([[[0, 1], [2, 3]], [[1, 2], [3, 4]]])\n",
    "\n",
    "corr2d_multi_in(X, K)"
   ],
   "metadata": {
    "collapsed": false,
    "pycharm": {
     "name": "#%%\n"
    }
   }
  },
  {
   "cell_type": "code",
   "execution_count": 10,
   "outputs": [
    {
     "data": {
      "text/plain": "tensor([[[[[0, 1],\n           [2, 3]],\n\n          [[1, 2],\n           [3, 4]]],\n\n\n         [[[1, 2],\n           [3, 4]],\n\n          [[2, 3],\n           [4, 5]]],\n\n\n         [[[2, 3],\n           [4, 5]],\n\n          [[3, 4],\n           [5, 6]]]],\n\n\n\n        [[[[1, 2],\n           [3, 4]],\n\n          [[2, 3],\n           [4, 5]]],\n\n\n         [[[2, 3],\n           [4, 5]],\n\n          [[3, 4],\n           [5, 6]]],\n\n\n         [[[3, 4],\n           [5, 6]],\n\n          [[4, 5],\n           [6, 7]]]],\n\n\n\n        [[[[2, 3],\n           [4, 5]],\n\n          [[3, 4],\n           [5, 6]]],\n\n\n         [[[3, 4],\n           [5, 6]],\n\n          [[4, 5],\n           [6, 7]]],\n\n\n         [[[4, 5],\n           [6, 7]],\n\n          [[5, 6],\n           [7, 8]]]]])"
     },
     "execution_count": 10,
     "metadata": {},
     "output_type": "execute_result"
    }
   ],
   "source": [
    "K = torch.stack([K, K + 1, K + 2])\n",
    "K\n"
   ],
   "metadata": {
    "collapsed": false,
    "pycharm": {
     "name": "#%%\n"
    }
   }
  }
 ],
 "metadata": {
  "kernelspec": {
   "display_name": "Python 3",
   "language": "python",
   "name": "python3"
  },
  "language_info": {
   "codemirror_mode": {
    "name": "ipython",
    "version": 2
   },
   "file_extension": ".py",
   "mimetype": "text/x-python",
   "name": "python",
   "nbconvert_exporter": "python",
   "pygments_lexer": "ipython2",
   "version": "2.7.6"
  }
 },
 "nbformat": 4,
 "nbformat_minor": 0
}