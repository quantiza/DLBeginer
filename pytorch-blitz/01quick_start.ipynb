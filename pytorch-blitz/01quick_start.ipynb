{
 "cells": [
  {
   "cell_type": "code",
   "execution_count": 20,
   "metadata": {
    "collapsed": true,
    "pycharm": {
     "name": "#%%\n"
    }
   },
   "outputs": [],
   "source": [
    "import torch\n",
    "from torch import nn\n",
    "from torch.utils.data import DataLoader\n",
    "from torchvision import datasets\n",
    "from torchvision.transforms import ToTensor\n"
   ]
  },
  {
   "cell_type": "code",
   "execution_count": 21,
   "outputs": [
    {
     "name": "stdout",
     "output_type": "stream",
     "text": [
      "hello\n"
     ]
    }
   ],
   "source": [
    "print(\"hello\")"
   ],
   "metadata": {
    "collapsed": false,
    "pycharm": {
     "name": "#%%\n"
    }
   }
  },
  {
   "cell_type": "code",
   "execution_count": 22,
   "outputs": [],
   "source": [
    "training_data = datasets.FashionMNIST(root=\"data\", train=True, transform=ToTensor(), download=True)\n",
    "test_data = datasets.FashionMNIST(root=\"data\", train=False, transform=ToTensor(), download=True)"
   ],
   "metadata": {
    "collapsed": false,
    "pycharm": {
     "name": "#%%\n"
    }
   }
  },
  {
   "cell_type": "code",
   "execution_count": 23,
   "outputs": [
    {
     "name": "stdout",
     "output_type": "stream",
     "text": [
      "torch.Size([64, 1, 28, 28])\n",
      "torch.Size([64])\n"
     ]
    }
   ],
   "source": [
    "batch_size = 64\n",
    "\n",
    "train_dataloader = DataLoader(training_data, batch_size=batch_size)\n",
    "test_dataloader = DataLoader(test_data, batch_size=batch_size)\n",
    "\n",
    "for X, y in test_dataloader:\n",
    "    print(X.shape)\n",
    "    print(y.shape)\n",
    "    break"
   ],
   "metadata": {
    "collapsed": false,
    "pycharm": {
     "name": "#%%\n"
    }
   }
  },
  {
   "cell_type": "code",
   "execution_count": 24,
   "outputs": [
    {
     "name": "stdout",
     "output_type": "stream",
     "text": [
      "Using cpu device\n",
      "NeuralNetwork(\n",
      "  (flatten): Flatten(start_dim=1, end_dim=-1)\n",
      "  (linear_relu_stack): Sequential(\n",
      "    (0): Linear(in_features=784, out_features=512, bias=True)\n",
      "    (1): ReLU()\n",
      "    (2): Linear(in_features=512, out_features=512, bias=True)\n",
      "    (3): ReLU()\n",
      "    (4): Linear(in_features=512, out_features=18, bias=True)\n",
      "  )\n",
      ")\n"
     ]
    }
   ],
   "source": [
    "device = \"cuda\" if torch.cuda.is_available() else \"cpu\"\n",
    "print(f\"Using {device} device\")\n",
    "\n",
    "class NeuralNetwork(nn.Module):\n",
    "    def __init__(self):\n",
    "        super(NeuralNetwork, self).__init__()\n",
    "        self.flatten = nn.Flatten()\n",
    "        self.linear_relu_stack = nn.Sequential(\n",
    "            nn.Linear(28*28, 512),\n",
    "            nn.ReLU(),\n",
    "            nn.Linear(512, 512),\n",
    "            nn.ReLU(),\n",
    "            nn.Linear(512, 18)\n",
    "        )\n",
    "    def forward(self, x):\n",
    "        x = self.flatten(x)\n",
    "        logits = self.linear_relu_stack(x)\n",
    "        return logits\n",
    "\n",
    "model = NeuralNetwork().to(device)\n",
    "print(model)\n"
   ],
   "metadata": {
    "collapsed": false,
    "pycharm": {
     "name": "#%%\n"
    }
   }
  },
  {
   "cell_type": "code",
   "execution_count": 25,
   "outputs": [],
   "source": [
    "loss_fn = nn.CrossEntropyLoss()\n",
    "optimizer = torch.optim.SGD(model.parameters(), lr=1e-3)"
   ],
   "metadata": {
    "collapsed": false,
    "pycharm": {
     "name": "#%%\n"
    }
   }
  },
  {
   "cell_type": "code",
   "execution_count": 26,
   "outputs": [],
   "source": [
    "def train(dataloader, model, loss_fn, optimizer):\n",
    "    size = len(dataloader.dataset)\n",
    "    model.train()\n",
    "    for batch, (X, y) in enumerate(dataloader):\n",
    "        X, y = X.to(device), y.to(device)\n",
    "\n",
    "        pred = model(X)\n",
    "        loss = loss_fn(pred, y)\n",
    "\n",
    "        optimizer.zero_grad()\n",
    "        loss.backward()\n",
    "        optimizer.step()\n",
    "\n",
    "        if batch % 100 == 0:\n",
    "            loss, current = loss.item(), batch * len(X)\n",
    "            print(f\"loss: {loss:>7f}  [{current:>5d}/{size:>5d}]\")\n"
   ],
   "metadata": {
    "collapsed": false,
    "pycharm": {
     "name": "#%%\n"
    }
   }
  },
  {
   "cell_type": "code",
   "execution_count": 30,
   "outputs": [],
   "source": [
    "def test(dataloader, model, loss_fn):\n",
    "    size = len(dataloader.dataset)\n",
    "    num_batches = len(dataloader)\n",
    "    model.eval()\n",
    "    test_loss, correct = 0, 0\n",
    "    with torch.no_grad():\n",
    "        for X, y in dataloader:\n",
    "            X, y = X.to(device), y.to(device)\n",
    "            pred = model(X)\n",
    "            test_loss += loss_fn(pred, y).item()\n",
    "            correct += (pred.argmax(1) == y).type(torch.float).sum().item()\n",
    "    test_loss /= num_batches\n",
    "    correct /= size\n",
    "    print(f\"Test Error: \\n Accuracy: {(100*correct):>0.1f}%, Avg loss: {test_loss:>8f} \\n\")"
   ],
   "metadata": {
    "collapsed": false,
    "pycharm": {
     "name": "#%%\n"
    }
   }
  },
  {
   "cell_type": "code",
   "execution_count": 31,
   "outputs": [
    {
     "name": "stdout",
     "output_type": "stream",
     "text": [
      "Epoch 1\n",
      "-------------------------------\n",
      "loss: 2.885360  [    0/60000]\n",
      "loss: 2.841220  [ 6400/60000]\n",
      "loss: 2.788033  [12800/60000]\n",
      "loss: 2.758802  [19200/60000]\n",
      "loss: 2.707522  [25600/60000]\n",
      "loss: 2.631382  [32000/60000]\n",
      "loss: 2.625377  [38400/60000]\n",
      "loss: 2.533580  [44800/60000]\n",
      "loss: 2.501811  [51200/60000]\n",
      "loss: 2.408904  [57600/60000]\n",
      "Test Error: \n",
      " Accuracy: 29.7%, Avg loss: 2.378486 \n",
      "\n",
      "Epoch 2\n",
      "-------------------------------\n",
      "loss: 2.397541  [    0/60000]\n",
      "loss: 2.366842  [ 6400/60000]\n",
      "loss: 2.237725  [12800/60000]\n",
      "loss: 2.259305  [19200/60000]\n",
      "loss: 2.174202  [25600/60000]\n",
      "loss: 2.045454  [32000/60000]\n",
      "loss: 2.119141  [38400/60000]\n",
      "loss: 1.985229  [44800/60000]\n",
      "loss: 1.990976  [51200/60000]\n",
      "loss: 1.884779  [57600/60000]\n",
      "Test Error: \n",
      " Accuracy: 53.1%, Avg loss: 1.879444 \n",
      "\n",
      "Epoch 3\n",
      "-------------------------------\n",
      "loss: 1.928611  [    0/60000]\n",
      "loss: 1.881359  [ 6400/60000]\n",
      "loss: 1.733259  [12800/60000]\n",
      "loss: 1.777499  [19200/60000]\n",
      "loss: 1.649884  [25600/60000]\n",
      "loss: 1.601091  [32000/60000]\n",
      "loss: 1.624096  [38400/60000]\n",
      "loss: 1.529352  [44800/60000]\n",
      "loss: 1.546964  [51200/60000]\n",
      "loss: 1.432329  [57600/60000]\n",
      "Test Error: \n",
      " Accuracy: 62.2%, Avg loss: 1.460870 \n",
      "\n",
      "Epoch 4\n",
      "-------------------------------\n",
      "loss: 1.538011  [    0/60000]\n",
      "loss: 1.506180  [ 6400/60000]\n",
      "loss: 1.348408  [12800/60000]\n",
      "loss: 1.420858  [19200/60000]\n",
      "loss: 1.302416  [25600/60000]\n",
      "loss: 1.308490  [32000/60000]\n",
      "loss: 1.320141  [38400/60000]\n",
      "loss: 1.256215  [44800/60000]\n",
      "loss: 1.289773  [51200/60000]\n",
      "loss: 1.188174  [57600/60000]\n",
      "Test Error: \n",
      " Accuracy: 63.6%, Avg loss: 1.217756 \n",
      "\n",
      "Epoch 5\n",
      "-------------------------------\n",
      "loss: 1.299017  [    0/60000]\n",
      "loss: 1.286216  [ 6400/60000]\n",
      "loss: 1.118025  [12800/60000]\n",
      "loss: 1.218397  [19200/60000]\n",
      "loss: 1.102947  [25600/60000]\n",
      "loss: 1.128995  [32000/60000]\n",
      "loss: 1.147129  [38400/60000]\n",
      "loss: 1.092432  [44800/60000]\n",
      "loss: 1.133882  [51200/60000]\n",
      "loss: 1.045540  [57600/60000]\n",
      "Test Error: \n",
      " Accuracy: 65.0%, Avg loss: 1.069053 \n",
      "\n",
      "Done!\n"
     ]
    }
   ],
   "source": [
    "epochs = 5\n",
    "for t in range(epochs):\n",
    "    print(f\"Epoch {t+1}\\n-------------------------------\")\n",
    "    train(train_dataloader, model, loss_fn, optimizer)\n",
    "    test(test_dataloader, model, loss_fn)\n",
    "print(\"Done!\")"
   ],
   "metadata": {
    "collapsed": false,
    "pycharm": {
     "name": "#%%\n"
    }
   }
  }
 ],
 "metadata": {
  "kernelspec": {
   "display_name": "Python 3",
   "language": "python",
   "name": "python3"
  },
  "language_info": {
   "codemirror_mode": {
    "name": "ipython",
    "version": 2
   },
   "file_extension": ".py",
   "mimetype": "text/x-python",
   "name": "python",
   "nbconvert_exporter": "python",
   "pygments_lexer": "ipython2",
   "version": "2.7.6"
  }
 },
 "nbformat": 4,
 "nbformat_minor": 0
}